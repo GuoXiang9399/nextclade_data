{
 "cells": [
  {
   "cell_type": "code",
   "execution_count": 3,
   "metadata": {},
   "outputs": [],
   "source": [
    "from Bio import Seq\n",
    "from Bio import SeqIO\n",
    "from Bio.Seq import MutableSeq\n",
    "from Bio import SeqRecord\n",
    "\n",
    "fasta_sequences = SeqIO.parse(open(\"data/flu/h3n2/ha_reversions/reference.fasta\"),'fasta')\n",
    "for fasta in fasta_sequences:\n",
    "    name, sequence = fasta.id, str(fasta.seq)\n"
   ]
  },
  {
   "cell_type": "code",
   "execution_count": 13,
   "metadata": {},
   "outputs": [
    {
     "data": {
      "text/plain": [
       "Seq('CAAAAACTTCCCGGAAATGACAACAGCACGGCAACGCTGTGCCTTGGGCACCAT...AGA')"
      ]
     },
     "execution_count": 13,
     "metadata": {},
     "output_type": "execute_result"
    }
   ],
   "source": [
    "HA1_segment = sequence[65:1052]\n",
    "len(HA1_segment)/3 # 295\n",
    "Seq.Seq(HA1_segment)"
   ]
  },
  {
   "cell_type": "code",
   "execution_count": 14,
   "metadata": {},
   "outputs": [
    {
     "data": {
      "text/plain": [
       "Seq('QKLPGNDNSTATLCLGHHAVPNGTIVKTITNDQIEVTNATELVQSSSTGGICDS...QTR')"
      ]
     },
     "execution_count": 14,
     "metadata": {},
     "output_type": "execute_result"
    }
   ],
   "source": [
    "Seq.Seq(HA1_segment).translate()"
   ]
  },
  {
   "attachments": {},
   "cell_type": "markdown",
   "metadata": {},
   "source": [
    "Create n with the mutations:\n",
    "\"nuc\": [\n",
    "    \"A67T\",\n",
    "    \"A68T\"\n",
    "    \"A70T\"\n",
    "    \"C71T\"\n",
    "    \"A86T\"\n",
    "    \"A87T\"\n",
    "    ],"
   ]
  },
  {
   "cell_type": "code",
   "execution_count": 15,
   "metadata": {},
   "outputs": [
    {
     "data": {
      "text/plain": [
       "MutableSeq('HYFPGNDFSTATLCLGHHAVPNGTIVKTITNDQIEVTNATELVQSSSTGGICDS...QTR')"
      ]
     },
     "execution_count": 15,
     "metadata": {},
     "output_type": "execute_result"
    }
   ],
   "source": [
    "n = Seq.MutableSeq(sequence)\n",
    "\n",
    "def give_n_mutations(seq):\n",
    "    seq[67] = \"T\"\n",
    "    seq[68] = \"T\"\n",
    "    seq[70] = \"T\"\n",
    "    seq[71] = \"T\"\n",
    "    seq[86] = \"T\"\n",
    "    seq[87] = \"T\"\n",
    "\n",
    "give_n_mutations(n)\n",
    "n[65:1052].translate()"
   ]
  },
  {
   "attachments": {},
   "cell_type": "markdown",
   "metadata": {},
   "source": [
    "Now create c1 and c2 with the additional mutations:\n",
    "\n",
    "\"nuc\": [\n",
    "    \"C75T\",\n",
    "    \"C76T\"\n",
    "    ],\n",
    "\n",
    "\n",
    "\"nuc\": [\n",
    "    \"C74A\",\n",
    "    \"C75A\",\n",
    "    \"C76A\"\n",
    "    ],"
   ]
  },
  {
   "cell_type": "code",
   "execution_count": 17,
   "metadata": {},
   "outputs": [
    {
     "data": {
      "text/plain": [
       "MutableSeq('HYFLGNDFSTATLCLGHHAVPNGTIVKTITNDQIEVTNATELVQSSSTGGICDS...QTR')"
      ]
     },
     "execution_count": 17,
     "metadata": {},
     "output_type": "execute_result"
    }
   ],
   "source": [
    "a = Seq.MutableSeq(sequence)\n",
    "a[67] = \"T\"\n",
    "a[68] = \"T\"\n",
    "a[70] = \"C\"\n",
    "a[86] = \"T\"\n",
    "a[87] = \"T\"\n",
    "\n",
    "b = Seq.MutableSeq(sequence)\n",
    "b[67] = \"T\"\n",
    "b[68] = \"T\"\n",
    "b[70] = \"T\"\n",
    "b[71] = \"A\"\n",
    "b[86] = \"T\"\n",
    "b[87] = \"T\"\n",
    "\n",
    "c1 = Seq.MutableSeq(sequence)\n",
    "give_n_mutations(c1)\n",
    "\n",
    "c2 = Seq.MutableSeq(sequence)\n",
    "give_n_mutations(c2)\n",
    "\n",
    "c2[75] = \"A\"\n",
    "c2[76] = \"A\"\n",
    "c2[74] = \"A\"\n",
    "c1[65:1052].translate()\n",
    "\n",
    "c1[75] = \"T\"\n",
    "c1[76] = \"T\"\n",
    "c1[65:1052].translate()"
   ]
  },
  {
   "cell_type": "code",
   "execution_count": null,
   "metadata": {},
   "outputs": [],
   "source": [
    "c = Seq.MutableSeq(sequence)\n",
    "give_n_mutations(c)\n",
    "c[75] = \"T\"\n",
    "c[76] = \"G\"\n",
    "\n",
    "d = Seq.MutableSeq(sequence)\n",
    "give_n_mutations(d)\n",
    "d[75] = \"G\"\n",
    "d[74] = \"G\"\n",
    "\n",
    "e = Seq.MutableSeq(sequence)\n",
    "give_n_mutations(e)\n",
    "e[75] = \"G\"\n",
    "e[74] = \"G\"\n",
    "e[68] = \"N\" # check effect of missing sequences\n",
    "e[77] = \"C\""
   ]
  },
  {
   "cell_type": "code",
   "execution_count": null,
   "metadata": {},
   "outputs": [
    {
     "data": {
      "text/plain": [
       "MutableSeq('IIFLEMTSARQRCALGTMQYQTER**KQSRMTKLKLLMLLSWFRVPQQVEYATV...KLE')"
      ]
     },
     "execution_count": 6,
     "metadata": {},
     "output_type": "execute_result"
    }
   ],
   "source": [
    "c1[66:1053].translate()"
   ]
  },
  {
   "cell_type": "code",
   "execution_count": null,
   "metadata": {},
   "outputs": [
    {
     "data": {
      "text/plain": [
       "MutableSeq('IILKEMTSARQRCALGTMQYQTER**KQSRMTKLKLLMLLSWFRVPQQVEYATV...KLE')"
      ]
     },
     "execution_count": 7,
     "metadata": {},
     "output_type": "execute_result"
    }
   ],
   "source": [
    "c2[66:1053].translate()"
   ]
  },
  {
   "cell_type": "code",
   "execution_count": null,
   "metadata": {},
   "outputs": [
    {
     "data": {
      "text/plain": [
       "SeqRecord(seq=MutableSeq('GGATAATTCTATTAACCATGAAGACTATCATTGCTTTGAGCTACATTCTATGTC...CAC'), id='<unknown id>', name='<unknown name>', description='<unknown description>', dbxrefs=[])"
      ]
     },
     "execution_count": 8,
     "metadata": {},
     "output_type": "execute_result"
    }
   ],
   "source": [
    "from Bio.SeqRecord import SeqRecord\n",
    "SeqRecord(a)"
   ]
  },
  {
   "cell_type": "code",
   "execution_count": null,
   "metadata": {},
   "outputs": [],
   "source": [
    "with open(\"data/flu/h3n2/ha_reversions/sequences.fasta\", \"w\") as output_handle:\n",
    "    SeqIO.write(SeqRecord(a, id=\"a\", name=\"a\"), output_handle, \"fasta\")\n",
    "    SeqIO.write(SeqRecord(b, id=\"b\", name=\"b\"), output_handle, \"fasta\")\n",
    "    SeqIO.write(SeqRecord(c, id=\"c\", name=\"c\"), output_handle, \"fasta\")\n",
    "    SeqIO.write(SeqRecord(d, id=\"d\", name=\"d\"), output_handle, \"fasta\")\n",
    "    SeqIO.write(SeqRecord(e, id=\"e\", name=\"e\"), output_handle, \"fasta\")"
   ]
  }
 ],
 "metadata": {
  "kernelspec": {
   "display_name": "Python 3",
   "language": "python",
   "name": "python3"
  },
  "language_info": {
   "codemirror_mode": {
    "name": "ipython",
    "version": 3
   },
   "file_extension": ".py",
   "mimetype": "text/x-python",
   "name": "python",
   "nbconvert_exporter": "python",
   "pygments_lexer": "ipython3",
   "version": "3.8.10"
  },
  "orig_nbformat": 4,
  "vscode": {
   "interpreter": {
    "hash": "916dbcbb3f70747c44a77c7bcd40155683ae19c65e1c03b4aa3499c5328201f1"
   }
  }
 },
 "nbformat": 4,
 "nbformat_minor": 2
}
